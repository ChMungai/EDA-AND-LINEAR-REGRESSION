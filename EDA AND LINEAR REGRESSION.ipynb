{
 "cells": [
  {
   "cell_type": "code",
   "execution_count": null,
   "id": "e7edf1df-d355-400d-9ead-7abaecf31363",
   "metadata": {},
   "outputs": [],
   "source": [
    "# Import the necessary libraries and load the data"
   ]
  },
  {
   "cell_type": "code",
   "execution_count": 4,
   "id": "578de358-be03-4149-b6b4-03c6efd016b7",
   "metadata": {},
   "outputs": [],
   "source": [
    "import pandas as pd\n",
    "import numpy as np\n",
    "import matplotlib.pyplot as plt\n",
    "import seaborn as sns\n",
    "\n",
    "insurance_df = pd.read_csv('insurance.csv')"
   ]
  },
  {
   "cell_type": "code",
   "execution_count": 5,
   "id": "a8b2ccb1-11ce-4814-95ad-8ba48e66a2dd",
   "metadata": {},
   "outputs": [],
   "source": [
    "#Check the basic information about the dataset such as data types, non-null values, and memory usage using info() method."
   ]
  },
  {
   "cell_type": "code",
   "execution_count": 6,
   "id": "a0f6f1d8-dd08-4d64-aaee-13baf3f22e92",
   "metadata": {},
   "outputs": [
    {
     "name": "stdout",
     "output_type": "stream",
     "text": [
      "<class 'pandas.core.frame.DataFrame'>\n",
      "RangeIndex: 1338 entries, 0 to 1337\n",
      "Data columns (total 7 columns):\n",
      " #   Column    Non-Null Count  Dtype  \n",
      "---  ------    --------------  -----  \n",
      " 0   age       1338 non-null   int64  \n",
      " 1   sex       1338 non-null   object \n",
      " 2   bmi       1338 non-null   float64\n",
      " 3   children  1338 non-null   int64  \n",
      " 4   smoker    1338 non-null   object \n",
      " 5   region    1338 non-null   object \n",
      " 6   charges   1338 non-null   float64\n",
      "dtypes: float64(2), int64(2), object(3)\n",
      "memory usage: 73.3+ KB\n"
     ]
    }
   ],
   "source": [
    "insurance_df.info()\n"
   ]
  },
  {
   "cell_type": "code",
   "execution_count": 7,
   "id": "122798ed-f108-4485-bae5-6694ff80af2c",
   "metadata": {},
   "outputs": [],
   "source": [
    "# Get the summary statistics of the dataset using describe() method."
   ]
  },
  {
   "cell_type": "code",
   "execution_count": 8,
   "id": "26caccda-9721-42dd-a67f-31b61ca7e063",
   "metadata": {},
   "outputs": [
    {
     "data": {
      "text/html": [
       "<div>\n",
       "<style scoped>\n",
       "    .dataframe tbody tr th:only-of-type {\n",
       "        vertical-align: middle;\n",
       "    }\n",
       "\n",
       "    .dataframe tbody tr th {\n",
       "        vertical-align: top;\n",
       "    }\n",
       "\n",
       "    .dataframe thead th {\n",
       "        text-align: right;\n",
       "    }\n",
       "</style>\n",
       "<table border=\"1\" class=\"dataframe\">\n",
       "  <thead>\n",
       "    <tr style=\"text-align: right;\">\n",
       "      <th></th>\n",
       "      <th>age</th>\n",
       "      <th>bmi</th>\n",
       "      <th>children</th>\n",
       "      <th>charges</th>\n",
       "    </tr>\n",
       "  </thead>\n",
       "  <tbody>\n",
       "    <tr>\n",
       "      <th>count</th>\n",
       "      <td>1338.000000</td>\n",
       "      <td>1338.000000</td>\n",
       "      <td>1338.000000</td>\n",
       "      <td>1338.000000</td>\n",
       "    </tr>\n",
       "    <tr>\n",
       "      <th>mean</th>\n",
       "      <td>39.207025</td>\n",
       "      <td>30.663397</td>\n",
       "      <td>1.094918</td>\n",
       "      <td>13270.422265</td>\n",
       "    </tr>\n",
       "    <tr>\n",
       "      <th>std</th>\n",
       "      <td>14.049960</td>\n",
       "      <td>6.098187</td>\n",
       "      <td>1.205493</td>\n",
       "      <td>12110.011237</td>\n",
       "    </tr>\n",
       "    <tr>\n",
       "      <th>min</th>\n",
       "      <td>18.000000</td>\n",
       "      <td>15.960000</td>\n",
       "      <td>0.000000</td>\n",
       "      <td>1121.873900</td>\n",
       "    </tr>\n",
       "    <tr>\n",
       "      <th>25%</th>\n",
       "      <td>27.000000</td>\n",
       "      <td>26.296250</td>\n",
       "      <td>0.000000</td>\n",
       "      <td>4740.287150</td>\n",
       "    </tr>\n",
       "    <tr>\n",
       "      <th>50%</th>\n",
       "      <td>39.000000</td>\n",
       "      <td>30.400000</td>\n",
       "      <td>1.000000</td>\n",
       "      <td>9382.033000</td>\n",
       "    </tr>\n",
       "    <tr>\n",
       "      <th>75%</th>\n",
       "      <td>51.000000</td>\n",
       "      <td>34.693750</td>\n",
       "      <td>2.000000</td>\n",
       "      <td>16639.912515</td>\n",
       "    </tr>\n",
       "    <tr>\n",
       "      <th>max</th>\n",
       "      <td>64.000000</td>\n",
       "      <td>53.130000</td>\n",
       "      <td>5.000000</td>\n",
       "      <td>63770.428010</td>\n",
       "    </tr>\n",
       "  </tbody>\n",
       "</table>\n",
       "</div>"
      ],
      "text/plain": [
       "               age          bmi     children       charges\n",
       "count  1338.000000  1338.000000  1338.000000   1338.000000\n",
       "mean     39.207025    30.663397     1.094918  13270.422265\n",
       "std      14.049960     6.098187     1.205493  12110.011237\n",
       "min      18.000000    15.960000     0.000000   1121.873900\n",
       "25%      27.000000    26.296250     0.000000   4740.287150\n",
       "50%      39.000000    30.400000     1.000000   9382.033000\n",
       "75%      51.000000    34.693750     2.000000  16639.912515\n",
       "max      64.000000    53.130000     5.000000  63770.428010"
      ]
     },
     "execution_count": 8,
     "metadata": {},
     "output_type": "execute_result"
    }
   ],
   "source": [
    "insurance_df.describe()\n"
   ]
  },
  {
   "cell_type": "code",
   "execution_count": 9,
   "id": "755e8436-e830-4258-a947-fc95390f9e2d",
   "metadata": {},
   "outputs": [],
   "source": [
    "#Check for any missing or null values in the dataset using isnull().sum() method."
   ]
  },
  {
   "cell_type": "code",
   "execution_count": 10,
   "id": "929deada-a0f0-412f-8cad-a0b49a9ac30e",
   "metadata": {},
   "outputs": [
    {
     "data": {
      "text/plain": [
       "age         0\n",
       "sex         0\n",
       "bmi         0\n",
       "children    0\n",
       "smoker      0\n",
       "region      0\n",
       "charges     0\n",
       "dtype: int64"
      ]
     },
     "execution_count": 10,
     "metadata": {},
     "output_type": "execute_result"
    }
   ],
   "source": [
    "insurance_df.isnull().sum()\n"
   ]
  },
  {
   "cell_type": "code",
   "execution_count": 11,
   "id": "28eabcb1-f782-4236-8851-63d8ae9979a3",
   "metadata": {},
   "outputs": [],
   "source": [
    "# Check the distribution of the numerical variables using histogram plot."
   ]
  },
  {
   "cell_type": "code",
   "execution_count": 12,
   "id": "f607106f-0a2d-4aa1-bb51-1382fe3282a9",
   "metadata": {},
   "outputs": [
    {
     "data": {
      "text/plain": [
       "<AxesSubplot:xlabel='age', ylabel='Count'>"
      ]
     },
     "execution_count": 12,
     "metadata": {},
     "output_type": "execute_result"
    },
    {
     "data": {
      "image/png": "[encoded data removed]",
      "text/plain": [
       "<Figure size 640x480 with 1 Axes>"
      ]
     },
     "metadata": {},
     "output_type": "display_data"
    }
   ],
   "source": [
    "sns.set(style=\"darkgrid\")\n",
    "sns.histplot(data=insurance_df, x=\"age\")\n"
   ]
  },
  {
   "cell_type": "code",
   "execution_count": null,
   "id": "b55229a2-5c7f-423f-9ece-3442b1ab699e",
   "metadata": {},
   "outputs": [],
   "source": [
    "# check age distribution of the dataset"
   ]
  },
  {
   "cell_type": "code",
   "execution_count": 14,
   "id": "dc24d378-bab4-403a-b1d1-6db98f83dc1f",
   "metadata": {},
   "outputs": [
    {
     "data": {
      "text/plain": [
       "Text(0.5, 1.0, 'Age Distribution')"
      ]
     },
     "execution_count": 14,
     "metadata": {},
     "output_type": "execute_result"
    },
    {
     "data": {
      "image/png": "[encoded data removed]",
      "text/plain": [
       "<Figure size 640x480 with 1 Axes>"
      ]
     },
     "metadata": {},
     "output_type": "display_data"
    }
   ],
   "source": [
    "plt.subplot(1, 4, 1)\n",
    "sns.histplot(insurance_df['age'], kde=True, color='blue', bins=20)\n",
    "plt.xlabel('Age')\n",
    "plt.title('Age Distribution')\n",
    "\n"
   ]
  },
  {
   "cell_type": "code",
   "execution_count": null,
   "id": "e9aaa01c-969c-45ff-bcf6-ec7635db6da0",
   "metadata": {},
   "outputs": [],
   "source": [
    "# check bmi distribution of dataset"
   ]
  },
  {
   "cell_type": "code",
   "execution_count": 15,
   "id": "835ac321-bdea-4ae9-9d94-abf9b48da248",
   "metadata": {},
   "outputs": [
    {
     "data": {
      "text/plain": [
       "Text(0.5, 1.0, 'BMI Distribution')"
      ]
     },
     "execution_count": 15,
     "metadata": {},
     "output_type": "execute_result"
    },
    {
     "data": {
      "image/png": "[encoded data removed]",
      "text/plain": [
       "<Figure size 640x480 with 1 Axes>"
      ]
     },
     "metadata": {},
     "output_type": "display_data"
    }
   ],
   "source": [
    "plt.subplot(1, 4, 2)\n",
    "sns.histplot(insurance_df['bmi'], kde=True, color='red', bins=20)\n",
    "plt.xlabel('BMI')\n",
    "plt.title('BMI Distribution')"
   ]
  },
  {
   "cell_type": "code",
   "execution_count": null,
   "id": "ac9ec6b5-a9eb-4b5c-9439-c14cf2efd2ba",
   "metadata": {},
   "outputs": [],
   "source": [
    "# check the distribution of children ibnthe dataset using histogram"
   ]
  },
  {
   "cell_type": "code",
   "execution_count": 17,
   "id": "5e5aa61f-02a0-4a53-b96e-bc2824d17b8b",
   "metadata": {},
   "outputs": [
    {
     "data": {
      "text/plain": [
       "Text(0.5, 1.0, 'Children')"
      ]
     },
     "execution_count": 17,
     "metadata": {},
     "output_type": "execute_result"
    },
    {
     "data": {
      "image/png": "[encoded data removed]",
      "text/plain": [
       "<Figure size 640x480 with 1 Axes>"
      ]
     },
     "metadata": {},
     "output_type": "display_data"
    }
   ],
   "source": [
    "plt.subplot(1, 4, 3)\n",
    "sns.histplot(insurance_df['children'], kde=True, color='green', bins=10)\n",
    "plt.xlabel('Children')\n",
    "plt.title('Children')"
   ]
  },
  {
   "cell_type": "code",
   "execution_count": null,
   "id": "17615031-538e-4b78-8e68-7c7a3a5e6eb8",
   "metadata": {},
   "outputs": [],
   "source": [
    "# check charges distribution of the dataset using histogram."
   ]
  },
  {
   "cell_type": "code",
   "execution_count": 18,
   "id": "a3036440-a115-4807-a564-2dbf50e8c43b",
   "metadata": {},
   "outputs": [
    {
     "data": {
      "text/plain": [
       "Text(0.5, 1.0, 'Charges Distribution')"
      ]
     },
     "execution_count": 18,
     "metadata": {},
     "output_type": "execute_result"
    },
    {
     "data": {
      "image/png": "[encoded data removed]",
      "text/plain": [
       "<Figure size 640x480 with 1 Axes>"
      ]
     },
     "metadata": {},
     "output_type": "display_data"
    }
   ],
   "source": [
    "plt.subplot(1, 4, 4)\n",
    "sns.histplot(insurance_df['charges'], kde=True, color='purple', bins=20)\n",
    "plt.xlabel('Charges')\n",
    "plt.title('Charges Distribution')"
   ]
  },
  {
   "cell_type": "code",
   "execution_count": null,
   "id": "e0140ba4-e973-4ac3-8e12-eb1867de3a1a",
   "metadata": {},
   "outputs": [],
   "source": [
    "# shows the distribution of charges,bmi,children and age."
   ]
  },
  {
   "cell_type": "code",
   "execution_count": 19,
   "id": "6ad96fb8-2767-4a5a-b902-3b01e10f87e7",
   "metadata": {},
   "outputs": [
    {
     "data": {
      "text/plain": [
       "<Figure size 640x480 with 0 Axes>"
      ]
     },
     "metadata": {},
     "output_type": "display_data"
    }
   ],
   "source": [
    "plt.suptitle('Distributions of Age, BMI, Children and Charges')\n",
    "plt.show()"
   ]
  },
  {
   "cell_type": "code",
   "execution_count": 20,
   "id": "2c507c4b-d2e8-4ce6-b827-d11afc9a5078",
   "metadata": {},
   "outputs": [],
   "source": [
    "# Use Linear regression to train your data on and get evaluation aspects in terms of MAE, RMSE, and MSE."
   ]
  },
  {
   "cell_type": "code",
   "execution_count": 21,
   "id": "f7e60977-195b-415a-b7d3-a03e64658b1c",
   "metadata": {},
   "outputs": [],
   "source": [
    "import pandas as pd\n",
    "import numpy as np\n",
    "from sklearn.model_selection import train_test_split\n",
    "from sklearn.linear_model import LinearRegression\n",
    "from sklearn.metrics import mean_absolute_error, mean_squared_error\n",
    "\n",
    "# load the dataset\n",
    "insurance_df = pd.read_csv('insurance.csv')\n"
   ]
  },
  {
   "cell_type": "code",
   "execution_count": 22,
   "id": "e45f5fae-255e-43b4-ab5e-4cd8c4f95201",
   "metadata": {},
   "outputs": [],
   "source": [
    "# prepare the dataset by converting categorical features into numerical values"
   ]
  },
  {
   "cell_type": "code",
   "execution_count": 23,
   "id": "9a7d9986-024b-4505-94ba-ed7571c2a499",
   "metadata": {},
   "outputs": [],
   "source": [
    "# convert categorical features to numerical values\n",
    "insurance_df['sex'] = insurance_df['sex'].map({'female': 0, 'male': 1})\n",
    "insurance_df['smoker'] = insurance_df['smoker'].map({'no': 0, 'yes': 1})\n",
    "insurance_df = pd.get_dummies(insurance_df, columns=['region'])\n"
   ]
  },
  {
   "cell_type": "code",
   "execution_count": 24,
   "id": "a02d5170-47a0-43e0-ac24-b9b14404fcbb",
   "metadata": {},
   "outputs": [],
   "source": [
    "# split the dataset into training and testing sets"
   ]
  },
  {
   "cell_type": "code",
   "execution_count": 25,
   "id": "3c20e450-cf2f-4fee-aaa1-2330e8b5483c",
   "metadata": {},
   "outputs": [],
   "source": [
    "# split the dataset into training and testing sets\n",
    "X = insurance_df.drop('charges', axis=1)\n",
    "y = insurance_df['charges']\n",
    "\n",
    "X_train, X_test, y_train, y_test = train_test_split(X, y, test_size=0.2, random_state=0)\n"
   ]
  },
  {
   "cell_type": "code",
   "execution_count": 26,
   "id": "9372e811-c830-48dc-b8fe-f5e4df81058a",
   "metadata": {},
   "outputs": [],
   "source": [
    "# train the linear regression model on the training data"
   ]
  },
  {
   "cell_type": "code",
   "execution_count": 27,
   "id": "858fbe56-7fc9-488c-a974-287a9cbfb72a",
   "metadata": {},
   "outputs": [
    {
     "data": {
      "text/plain": [
       "LinearRegression()"
      ]
     },
     "execution_count": 27,
     "metadata": {},
     "output_type": "execute_result"
    }
   ],
   "source": [
    "# train the linear regression model\n",
    "regressor = LinearRegression()\n",
    "regressor.fit(X_train, y_train)\n"
   ]
  },
  {
   "cell_type": "code",
   "execution_count": 28,
   "id": "afd86d49-4e83-4947-aa78-22cdea335fc4",
   "metadata": {},
   "outputs": [],
   "source": [
    "# use the trained model to make predictions on the test data"
   ]
  },
  {
   "cell_type": "code",
   "execution_count": 29,
   "id": "999278bb-049f-4287-9ba6-1c5f57194c49",
   "metadata": {},
   "outputs": [],
   "source": [
    "# make predictions on the test data\n",
    "y_pred = regressor.predict(X_test)\n"
   ]
  },
  {
   "cell_type": "code",
   "execution_count": 30,
   "id": "e0bc5caa-cf03-480d-8c75-9238ca9981ed",
   "metadata": {},
   "outputs": [],
   "source": [
    "# evaluate the performance of the model using mean absolute error (MAE), root mean squared error (RMSE), and mean squared error (MSE)"
   ]
  },
  {
   "cell_type": "code",
   "execution_count": 31,
   "id": "9afa4fff-be6e-402c-9e48-82c199329164",
   "metadata": {},
   "outputs": [
    {
     "name": "stdout",
     "output_type": "stream",
     "text": [
      "Mean Absolute Error: 3933.272649405239\n",
      "Root Mean Squared Error: 5641.626558850191\n",
      "Mean Squared Error: 31827950.229523852\n"
     ]
    }
   ],
   "source": [
    "# calculate the evaluation metrics\n",
    "mae = mean_absolute_error(y_test, y_pred)\n",
    "rmse = np.sqrt(mean_squared_error(y_test, y_pred))\n",
    "mse = mean_squared_error(y_test, y_pred)\n",
    "\n",
    "print('Mean Absolute Error:', mae)\n",
    "print('Root Mean Squared Error:', rmse)\n",
    "print('Mean Squared Error:', mse)\n"
   ]
  },
  {
   "cell_type": "code",
   "execution_count": null,
   "id": "f4dfea70-1855-476f-9ff8-5c9e9105c388",
   "metadata": {},
   "outputs": [],
   "source": []
  }
 ],
 "metadata": {
  "kernelspec": {
   "display_name": "Python 3 (ipykernel)",
   "language": "python",
   "name": "python3"
  },
  "language_info": {
   "codemirror_mode": {
    "name": "ipython",
    "version": 3
   },
   "file_extension": ".py",
   "mimetype": "text/x-python",
   "name": "python",
   "nbconvert_exporter": "python",
   "pygments_lexer": "ipython3",
   "version": "3.9.13"
  }
 },
 "nbformat": 4,
 "nbformat_minor": 5
}
